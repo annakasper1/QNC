{
  "nbformat": 4,
  "nbformat_minor": 0,
  "metadata": {
    "colab": {
      "provenance": [],
      "authorship_tag": "ABX9TyMr/rVXXkMbkY6HE0JoPewE",
      "include_colab_link": true
    },
    "kernelspec": {
      "name": "python3",
      "display_name": "Python 3"
    },
    "language_info": {
      "name": "python"
    }
  },
  "cells": [
    {
      "cell_type": "markdown",
      "metadata": {
        "id": "view-in-github",
        "colab_type": "text"
      },
      "source": [
        "<a href=\"https://colab.research.google.com/github/annakasper1/QNC/blob/main/Simple_Non_parametric_T_tests.ipynb\" target=\"_parent\"><img src=\"https://colab.research.google.com/assets/colab-badge.svg\" alt=\"Open In Colab\"/></a>"
      ]
    },
    {
      "cell_type": "markdown",
      "source": [
        "**Simple Non-Parametric T-tests**"
      ],
      "metadata": {
        "id": "OuA05ic-WaFC"
      }
    },
    {
      "cell_type": "code",
      "execution_count": 1,
      "metadata": {
        "id": "OXJXVfNSUWuY"
      },
      "outputs": [],
      "source": [
        "import numpy as np\n",
        "import scipy.stats as st\n",
        "from statsmodels.stats.descriptivestats import sign_test\n",
        ""
      ]
    },
    {
      "cell_type": "markdown",
      "source": [
        "According to Microsoft Copilot: The NumPy package in python stands for Numerical Python.\n",
        "\n",
        "The scipy.stats package is a submodule of SciPy. It provides statistical functions such as t-tests and includes probability distributions.\n",
        "\n",
        "The sign_test is a non-parametric test. It evaluates if median of a distribution differs from a specified value."
      ],
      "metadata": {
        "id": "_-stnMWNUyuv"
      }
    },
    {
      "cell_type": "markdown",
      "source": [
        "**Sign test: one sample, skewed distribution**\n",
        "\n",
        "Null hypothesis: equal probability |p=0.5| of an effect/difference between paired measurements of a single sample."
      ],
      "metadata": {
        "id": "QVWsda4aWYJZ"
      }
    },
    {
      "cell_type": "code",
      "source": [
        "# Make some paired data\n",
        "a = [3,10,4,20,4,7,50,3,5,5,7] # this could be a pre-treatment score for a patient\n",
        "b = [5,9,10,15,6,5,43,6,2,1,0] # this could be a post-treatment score for the same patient\n",
        "diff = [bi-ai for ai, bi in zip(a,b)] # \"i\" represents which a and which b values are paired. zip(a, b) pairs up the elements from a and b.\n",
        "# The result is a list of differences.\n",
        "\n",
        "_, p = sign_test(diff) # this line runs the sign test on the list of differences. It asks the question - \"is the direction of change from a to b estatistically significant?\"\n",
        "# the test statistic and the p-value \"p\" are returned. The underscore \"_\" is used to ignore the test statistic.\n",
        "print(f'p={p:.2f}') # The p-value is printed and rounded to 2 decimal places, using an f-string for formatting."
      ],
      "metadata": {
        "colab": {
          "base_uri": "https://localhost:8080/"
        },
        "id": "pXLjL7eQUrjm",
        "outputId": "cb37d91f-f7e8-48b9-e315-1ccf7fdd88a4"
      },
      "execution_count": 3,
      "outputs": [
        {
          "output_type": "stream",
          "name": "stdout",
          "text": [
            "p=0.55\n"
          ]
        }
      ]
    },
    {
      "cell_type": "markdown",
      "source": [
        "**Wilcoxon signed-rank test: one sample or paired samples, symmetric distribution|s|**\n",
        "\n",
        "Null hypothesis: the sample tested came from a population with a specified median value. The median value of this sample compared to the others in the population is the same.\n",
        "\n",
        "Typically used as a substitute for a one-sample t-test when the data distribution is not normal.\n",
        "\n",
        "One sample: test if median of a single sample is equal to a specific value.\n",
        "Paired sample: test if two related samples, like before/after measurements from the same subject, have equal median values.\n"
      ],
      "metadata": {
        "id": "PsUBK6OAZefh"
      }
    },
    {
      "cell_type": "code",
      "source": [
        "\n",
        "samples = np.random.randint(0, high=51, size=200) # uses NumPy to generate a list/array of 200 random integers between 0 and 50\n",
        "null_hypothesis_median = 24 # sets the null hypothesis median to 24. Here, we assume the true median of the population from which 'samples' were drawn is 24.\n",
        "\n",
        "# Unlike in Matlab, the scipy implementation does not handle the case of comparing\n",
        "#  to a median other than zero, so we make this a (fake) paired two-sample test\n",
        "#  by subtracting the median from each value\n",
        "_, p = st.wilcoxon(samples-null_hypothesis_median)\n",
        "print(f'p = {p:.2f}')"
      ],
      "metadata": {
        "colab": {
          "base_uri": "https://localhost:8080/"
        },
        "id": "ZKdgwQfrWftx",
        "outputId": "b6d79b03-a78a-484c-e944-3b06d8aaf235"
      },
      "execution_count": 4,
      "outputs": [
        {
          "output_type": "stream",
          "name": "stdout",
          "text": [
            "p = 0.98\n"
          ]
        }
      ]
    },
    {
      "cell_type": "markdown",
      "source": [
        "**Mann-Whitney: unpaired, two sample**\n",
        "\n",
        "Null hypothesis: two unpaired samples come from independent distributions that share the same median value.\n",
        "\n",
        "Typically used as a substitute for a two-sample t-test when the data distribution is not normal and to see if the distributions differ in terms of the median."
      ],
      "metadata": {
        "id": "YflA3w9Kb8FC"
      }
    },
    {
      "cell_type": "code",
      "source": [
        "\n",
        "X = np.random.randint(0, high=51, size=200)\n",
        "Y = 2 + np.random.randint(0, high=51, size=200)\n",
        "_, p = st.mannwhitneyu(X,Y)\n",
        "print(f'p = {p:.2f}')"
      ],
      "metadata": {
        "colab": {
          "base_uri": "https://localhost:8080/"
        },
        "id": "yc6irxnocWW6",
        "outputId": "b035eb31-672b-4e62-de30-acfa7556737e"
      },
      "execution_count": 5,
      "outputs": [
        {
          "output_type": "stream",
          "name": "stdout",
          "text": [
            "p = 0.01\n"
          ]
        }
      ]
    },
    {
      "cell_type": "markdown",
      "source": [
        "**Other notes**\n",
        "\n",
        "When deciding between the Wilcoxon vs the sign test on paired measurements, consider these factors:\n",
        "*   Is the distribution of differences symmetric or skewed?\n",
        "*   Does the mean roughly approximate the median or is it different?\n",
        "*   Do you want the sign and magnitude of the differences or just the sign?\n",
        "\n",
        "The primary benefit of the sign test is that it is not sensitive to outliers/skew.\n",
        "\n",
        "A distribution is symmetric if the values are evenly spead across a central point, like a mirror image.\n",
        "\n",
        "\n"
      ],
      "metadata": {
        "id": "eUspsS-fdudF"
      }
    }
  ]
}