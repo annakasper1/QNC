{
  "nbformat": 4,
  "nbformat_minor": 0,
  "metadata": {
    "colab": {
      "provenance": [],
      "authorship_tag": "ABX9TyO5oCnxJUgywdoTujuIKZQT",
      "include_colab_link": true
    },
    "kernelspec": {
      "name": "python3",
      "display_name": "Python 3"
    },
    "language_info": {
      "name": "python"
    }
  },
  "cells": [
    {
      "cell_type": "markdown",
      "metadata": {
        "id": "view-in-github",
        "colab_type": "text"
      },
      "source": [
        "<a href=\"https://colab.research.google.com/github/annakasper1/QNC/blob/main/Bernoulli_Distribution.ipynb\" target=\"_parent\"><img src=\"https://colab.research.google.com/assets/colab-badge.svg\" alt=\"Open In Colab\"/></a>"
      ]
    },
    {
      "cell_type": "markdown",
      "source": [
        "Tutorial from QNC Syllabus"
      ],
      "metadata": {
        "id": "NzFcucAwtqMI"
      }
    },
    {
      "cell_type": "code",
      "execution_count": 1,
      "metadata": {
        "id": "wDWnCb8VWYg5"
      },
      "outputs": [],
      "source": [
        "import random as rnd\n",
        "from scipy.stats import bernoulli"
      ]
    },
    {
      "cell_type": "code",
      "source": [
        "# In Python we can use random, which produces a random variable on the interval\n",
        "#   [0,1), which means that all values are greater than or equal to 0 and less\n",
        "#   than 1. This function is park of the \"random\" package imported above as \"rnd\".\n",
        "p = 0.7 # choose value for p\n",
        "single_outcome_method_1 = rnd.random() < p # create logical variable from single pick\n",
        "print(f\"outcome using rand = {single_outcome_method_1}\") # print the result\n",
        "\n",
        "# Or, equivalently, use bernoulli, which is a function in scipy.stats that\n",
        "#   generates a random pick from a Bernoulli distribution.\n",
        "# Choose value for p\n",
        "p = 0.7\n",
        "# Generate a single sample using the rvs (\"random variates\") method.\n",
        "#   To generate >1 sample, use the size argument\n",
        "single_outcome_method_2 = bernoulli.rvs(p, size=1)\n",
        "# Print the output\n",
        "print(f'outcome using binornd = {bool(single_outcome_method_2)}')\n",
        "\n",
        "# Now generate lots of Bernoulli trials to check if it is converging on the\n",
        "#   appropriate probability\n",
        "# Choose value for p\n",
        "p = 0.7\n",
        "# Number of Bernoulli trials to simulate\n",
        "N = 10000\n",
        "# Use the size argument to generate outcomes (an ndarray) from lot of trials\n",
        "outcomes = bernoulli.rvs(p, size=N)\n",
        "type(outcomes)\n",
        "print(f'{(outcomes == False).sum()} zeros, {(outcomes == True).sum()} ones, simulated p = {(outcomes == True).sum()/outcomes.size}, empirical p = {p}')"
      ],
      "metadata": {
        "colab": {
          "base_uri": "https://localhost:8080/"
        },
        "id": "p2qO93gNYMC8",
        "outputId": "5d5ed43f-99a7-4e87-d4c8-52131689d750"
      },
      "execution_count": 15,
      "outputs": [
        {
          "output_type": "stream",
          "name": "stdout",
          "text": [
            "outcome using rand = True\n",
            "outcome using binornd = True\n",
            "2941 zeros, 7059 ones, simulated p = 0.7059, empirical p = 0.7\n"
          ]
        }
      ]
    },
    {
      "cell_type": "code",
      "source": [
        "If I wanted to make a plot using bernoulli:\n",
        "- used ChatGPT prompt asking for python code for generating a bernoulli distribution plot given the outcomes, sample size, and p"
      ],
      "metadata": {
        "id": "uKT9TDOIYOlu"
      },
      "execution_count": null,
      "outputs": []
    },
    {
      "cell_type": "code",
      "source": [
        "import numpy as np\n",
        "import matplotlib.pyplot as plt\n",
        "from scipy.stats import bernoulli\n",
        "\n",
        "# Parameters\n",
        "p = 0.7          # probability of success\n",
        "n_samples = 1000 # sample size\n",
        "\n",
        "# Generate Bernoulli outcomes (0 or 1)\n",
        "data = bernoulli.rvs(p, size=n_samples)\n",
        "\n",
        "# Theoretical probabilities (not plotting this for now, so hashing out next two lines)\n",
        "outcomes = [0, 1]\n",
        "probs = [1 - p, p]\n",
        "\n",
        "# Plot histogram of sampled data\n",
        "plt.figure(figsize=(6,4)) #create the empty figure\n",
        "plt.hist(data, bins=np.arange(-0.5, 2), density=True, alpha=0.6, color='skyblue', edgecolor='black', label=\"Sampled\") #define plot characteristics\n",
        "\n",
        "# Plot theoretical distribution (don't need, so I'm hashing this out)\n",
        "#plt.stem(outcomes, probs, linefmt='r-', markerfmt='ro', basefmt=' ', label=\"Theoretical\")\n",
        "\n",
        "# Labels\n",
        "plt.xticks(outcomes)\n",
        "plt.xlabel(\"Outcome\") #set the X-axis label\n",
        "plt.ylabel(\"Probability\") #set the Y-axis label\n",
        "plt.title(f\"Bernoulli Distribution (p={p}, samples={n_samples})\") #Set the title\n",
        "#plt.legend() #Show the legend\n",
        "plt.show() #Show the completed plot once this code section is run\n"
      ],
      "metadata": {
        "colab": {
          "base_uri": "https://localhost:8080/",
          "height": 410
        },
        "id": "cVYRsyVut4Zb",
        "outputId": "b44a74e6-356e-442f-afbf-8e99029bfb56"
      },
      "execution_count": 18,
      "outputs": [
        {
          "output_type": "display_data",
          "data": {
            "text/plain": [
              "<Figure size 600x400 with 1 Axes>"
            ],
            "image/png": "[encoded data removed]"
          },
          "metadata": {}
        }
      ]
    }
  ]
}