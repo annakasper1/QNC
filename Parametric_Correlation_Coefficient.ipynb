{
  "nbformat": 4,
  "nbformat_minor": 0,
  "metadata": {
    "colab": {
      "provenance": [],
      "authorship_tag": "ABX9TyMNaOxIQfnSdvQ9UB95zApc",
      "include_colab_link": true
    },
    "kernelspec": {
      "name": "python3",
      "display_name": "Python 3"
    },
    "language_info": {
      "name": "python"
    }
  },
  "cells": [
    {
      "cell_type": "markdown",
      "metadata": {
        "id": "view-in-github",
        "colab_type": "text"
      },
      "source": [
        "<a href=\"https://colab.research.google.com/github/annakasper1/QNC/blob/main/Parametric_Correlation_Coefficient.ipynb\" target=\"_parent\"><img src=\"https://colab.research.google.com/assets/colab-badge.svg\" alt=\"Open In Colab\"/></a>"
      ]
    },
    {
      "cell_type": "markdown",
      "source": [
        "**Exercise answers**"
      ],
      "metadata": {
        "id": "JJF4BZ6NiAxT"
      }
    },
    {
      "cell_type": "markdown",
      "source": [
        "1. Plot X vs Y. Do they look related?\n",
        "\n",
        "Yes, they look somewhat positively correlated."
      ],
      "metadata": {
        "id": "ySiW4fpqiEoB"
      }
    },
    {
      "cell_type": "code",
      "execution_count": 4,
      "metadata": {
        "colab": {
          "base_uri": "https://localhost:8080/",
          "height": 472
        },
        "id": "Ph_btLzchtpn",
        "outputId": "55501e19-5012-4bb9-9027-deaba06c2fb8"
      },
      "outputs": [
        {
          "output_type": "display_data",
          "data": {
            "text/plain": [
              "<Figure size 640x480 with 1 Axes>"
            ],
            "image/png": "[encoded data removed]"
          },
          "metadata": {}
        }
      ],
      "source": [
        "import matplotlib.pyplot as plt\n",
        "\n",
        "# Wing length in cm\n",
        "X = [10.4, 10.8, 11.1, 10.2, 10.3, 10.2, 10.7, 10.5, 10.8, 11.2, 10.6, 11.4]\n",
        "\n",
        "# Tail length in cm\n",
        "Y = [7.4, 7.6, 7.9, 7.2, 7.4, 7.1, 7.4, 7.2, 7.8, 7.7, 7.8, 8.3]\n",
        "\n",
        "# Create a scatter plot\n",
        "plt.scatter(X, Y, color='blue', marker='o')\n",
        "\n",
        "# Add labels and title\n",
        "plt.xlabel('Wing Length (cm)')\n",
        "plt.ylabel('Tail Length (cm)')\n",
        "plt.title('Wing Length vs Tail Length')\n",
        "\n",
        "# Show the plot\n",
        "plt.grid(True)\n",
        "plt.show()\n"
      ]
    },
    {
      "cell_type": "markdown",
      "source": [
        "2. Calculate r(X,Y) and r(Y,X) using the manual equations then either the Python NumPy function corrcoef. Did you get the same answers?\n",
        "\n",
        "Yes, I got the same answers."
      ],
      "metadata": {
        "id": "uv6I2bmFi9Qd"
      }
    },
    {
      "cell_type": "code",
      "source": [
        "# MANUAL CALCULATIONS\n",
        "# Calculate means\n",
        "mean_X = sum(X) / len(X)\n",
        "mean_Y = sum(Y) / len(Y)\n",
        "\n",
        "# Calculate the numerator and denominators for Pearson correlation coefficient\n",
        "numerator = sum((x - mean_X) * (y - mean_Y) for x, y in zip(X, Y))\n",
        "denominator_X = sum((x - mean_X) ** 2 for x in X)\n",
        "denominator_Y = sum((y - mean_Y) ** 2 for y in Y)\n",
        "\n",
        "# Calculate Pearson correlation coefficient\n",
        "r = numerator / ((denominator_X * denominator_Y) ** 0.5)\n",
        "\n",
        "print(f\"Sample Pearson correlation coefficient: {r}\")\n",
        "\n",
        "# NUMPY CALCULATION\n",
        "import numpy as np\n",
        "\n",
        "# Calculate Pearson correlation coefficient using numpy's corrcoef\n",
        "correlation_matrix = np.corrcoef(X, Y)\n",
        "\n",
        "# Extract the correlation coefficient\n",
        "pearson_r = correlation_matrix[0, 1]\n",
        "\n",
        "print(f\"Pearson correlation coefficient: {pearson_r}\")\n",
        "\n"
      ],
      "metadata": {
        "colab": {
          "base_uri": "https://localhost:8080/"
        },
        "id": "mZRpigsMjKNX",
        "outputId": "70dc131f-826c-4811-b4e3-e609a43ca570"
      },
      "execution_count": 6,
      "outputs": [
        {
          "output_type": "stream",
          "name": "stdout",
          "text": [
            "Sample Pearson correlation coefficient: 0.8703545613058227\n",
            "Pearson correlation coefficient: 0.8703545613058227\n"
          ]
        }
      ]
    },
    {
      "cell_type": "markdown",
      "source": [
        "3. What is the standard error of r(X,Y)? The 95% CIs computed from the standard error?"
      ],
      "metadata": {
        "id": "5-afNv6skUZe"
      }
    },
    {
      "cell_type": "code",
      "source": [
        "import scipy.stats as stats\n",
        "# Sample size\n",
        "n = len(X)\n",
        "\n",
        "# Pearson correlation coefficient\n",
        "r = np.corrcoef(X, Y)[0, 1]\n",
        "\n",
        "# Standard error of the correlation coefficient\n",
        "SE_r = (1 - r**2) / np.sqrt(n - 2)\n",
        "\n",
        "# Compute 95% confidence interval using Fisher transformation\n",
        "z = np.arctanh(r)  # Fisher z-transform\n",
        "SE_z = 1 / np.sqrt(n - 3)\n",
        "z_crit = stats.norm.ppf(0.975)  # 95% confidence\n",
        "\n",
        "# Confidence interval in z-space\n",
        "z_lower = z - z_crit * SE_z\n",
        "z_upper = z + z_crit * SE_z\n",
        "\n",
        "# Convert back to r-space\n",
        "r_lower = np.tanh(z_lower)\n",
        "r_upper = np.tanh(z_upper)\n",
        "\n",
        "print(f\"Pearson correlation coefficient: {r:.4f}\")\n",
        "print(f\"Standard error: {SE_r:.4f}\")\n",
        "print(f\"95% confidence interval: ({r_lower:.4f}, {r_upper:.4f})\")\n",
        "\n"
      ],
      "metadata": {
        "colab": {
          "base_uri": "https://localhost:8080/"
        },
        "id": "2JgOo_0EkTHe",
        "outputId": "63f5e2fa-848d-4a7a-9a7b-2ad5e7730a73"
      },
      "execution_count": 8,
      "outputs": [
        {
          "output_type": "stream",
          "name": "stdout",
          "text": [
            "Pearson correlation coefficient: 0.8704\n",
            "Standard error: 0.0767\n",
            "95% confidence interval: (0.5923, 0.9632)\n"
          ]
        }
      ]
    },
    {
      "cell_type": "markdown",
      "source": [
        "4."
      ],
      "metadata": {
        "id": "Myw2XGOslKxv"
      }
    },
    {
      "cell_type": "code",
      "source": [],
      "metadata": {
        "id": "E_l9Ymj-lGOX"
      },
      "execution_count": null,
      "outputs": []
    }
  ]
}