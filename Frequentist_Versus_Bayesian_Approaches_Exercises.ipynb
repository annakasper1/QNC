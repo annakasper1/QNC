{
  "nbformat": 4,
  "nbformat_minor": 0,
  "metadata": {
    "colab": {
      "provenance": [],
      "authorship_tag": "ABX9TyN3wvuMB6ygSV6EhrhweFQL",
      "include_colab_link": true
    },
    "kernelspec": {
      "name": "python3",
      "display_name": "Python 3"
    },
    "language_info": {
      "name": "python"
    }
  },
  "cells": [
    {
      "cell_type": "markdown",
      "metadata": {
        "id": "view-in-github",
        "colab_type": "text"
      },
      "source": [
        "<a href=\"https://colab.research.google.com/github/annakasper1/QNC/blob/main/Frequentist_Versus_Bayesian_Approaches_Exercises.ipynb\" target=\"_parent\"><img src=\"https://colab.research.google.com/assets/colab-badge.svg\" alt=\"Open In Colab\"/></a>"
      ]
    },
    {
      "cell_type": "code",
      "execution_count": null,
      "metadata": {
        "colab": {
          "base_uri": "https://localhost:8080/"
        },
        "id": "NWWZtx6sZGFY",
        "outputId": "9c6fff42-bfcd-48ed-bf2e-ec4325a41a2c"
      },
      "outputs": [
        {
          "output_type": "stream",
          "name": "stdout",
          "text": [
            "P(X = 1 | H0) = 0.000000\n",
            "Hypothesis p=0.0 -> Posterior probability=0.000000\n",
            "Hypothesis p=0.1 -> Posterior probability=1.000000\n",
            "Hypothesis p=0.2 -> Posterior probability=0.000000\n",
            "Hypothesis p=0.3 -> Posterior probability=0.000000\n",
            "Hypothesis p=0.4 -> Posterior probability=0.000000\n",
            "Hypothesis p=0.5 -> Posterior probability=0.000000\n",
            "Hypothesis p=0.6 -> Posterior probability=0.000000\n",
            "Hypothesis p=0.7 -> Posterior probability=0.000000\n",
            "Hypothesis p=0.8 -> Posterior probability=0.000000\n",
            "Hypothesis p=0.9 -> Posterior probability=0.000000\n",
            "Hypothesis p=1.0 -> Posterior probability=0.000000\n"
          ]
        }
      ],
      "source": [
        "# v2\n",
        "\n",
        "# EXERCISE 1: If someone gets a positive test, is it \"statistically significant\"\n",
        "# at the p<0.05 level? Why or why not?\n",
        "\n",
        "# From my understanding, if someone gets a positive test, whether or not it\n",
        "# is statistically significant using the frequentist approach relies on\n",
        "# the sample size. In the frequentist approach, for the positive test\n",
        "# to be considered statistically significant, the probability that this positive\n",
        "# test occurs given the null hypothesis of no infection needs to be less than\n",
        "# 0.05. In stats, this would look like:\n",
        "# p(data|null hypothesis) < 0.05\n",
        "# The information provided would either provide evidence against the null\n",
        "# hypothesis, or indicate a false positive, which would be uninformative.\n",
        "# In this scenario, because the sample size given (n=1000) is relatively large\n",
        "# in comaprison to the number of events, this result is less likely to be a\n",
        "# false positive. The larger the sample size, the more informative this\n",
        "# approach can be about the statistical significance of\n",
        "# the positive test.\n",
        "\n",
        "# ChatGPT code prompt for this exercise (with a couple of alterations):\n",
        "# Python code for directly computing P(event | H0) given that there is 1 event\n",
        "# out of 1000 samples\n",
        "\n",
        "from scipy.stats import binom\n",
        "\n",
        "# Parameters\n",
        "n = 1000   # number of samples\n",
        "k = 1      # observed number of events\n",
        "p0 = 0.95 # null hypothesis probability of success (since false positive rate is\n",
        "# 0.05, I set this to 1 - false positive rate).\n",
        "\n",
        "# Probability of exactly k events under H0\n",
        "p_exact = binom.pmf(k, n, p0)\n",
        "\n",
        "# Probability of k or fewer events (cumulative)\n",
        "p_cumulative = binom.cdf(k, n, p0)\n",
        "\n",
        "print(f\"P(X = {k} | H0) = {p_cumulative:.6f}\")\n",
        "\n",
        "# Result: The probability that 1 event occurs given the null hypothesis is\n",
        "# essentially 0.\n",
        "\n",
        "\n",
        "\n",
        "# EXERCISE 2: What is the probability that if someone gets a positive test,\n",
        "# that person is infected?\n",
        "\n",
        "# Using a Bayesian approach, I need to see how changing the probability of a\n",
        "# hypothesis changes the proportion infected given a single positive test.\n",
        "\n",
        "\n",
        "# ChatGPT code prompt for this exercise:\n",
        "# python code for a bayesian approach to finding the proportion infected given\n",
        "# a positive test. event number = 1, sample number = 1000. The calculation\n",
        "# should be the probability of the hypothesis given the data equals the\n",
        " # (probability of the data given the hypothesis times the probability of the\n",
        " # hypothesis) divided by the probability of the data. Give me answers for\n",
        " # the proportion infected given a positive test when the probabilites of the\n",
        " # hypothesis range from 0 to 1 in steps of 0.1.\n",
        "\n",
        "import numpy as np\n",
        "from scipy.stats import binom\n",
        "\n",
        "# Data\n",
        "n = 1000  # number of samples\n",
        "k = 1     # observed positives\n",
        "\n",
        "# Hypotheses (possible infection proportions)\n",
        "p_hypotheses = np.arange(0, 1.01, 0.1)\n",
        "\n",
        "# Prior (assume uniform = 1 for simplicity)\n",
        "prior = np.ones_like(p_hypotheses)\n",
        "\n",
        "# Likelihood: P(data | hypothesis)\n",
        "likelihood = binom.pmf(k, n, p_hypotheses)\n",
        "\n",
        "# Unnormalized posterior\n",
        "unnormalized_posterior = likelihood * prior\n",
        "\n",
        "# Normalize to get posterior probabilities\n",
        "posterior = unnormalized_posterior / unnormalized_posterior.sum()\n",
        "\n",
        "# Print results\n",
        "for p, post in zip(p_hypotheses, posterior):\n",
        "    print(f\"Hypothesis p={p:.1f} -> Posterior probability={post:.6f}\")\n",
        "\n",
        "# results output:\n",
        "# Hypothesis p=0.0 -> Posterior probability=0.000000\n",
        "# Hypothesis p=0.1 -> Posterior probability=0.000000\n",
        "# Hypothesis p=0.2 -> Posterior probability=0.000000\n",
        "# Hypothesis p=0.3 -> Posterior probability=0.000000\n",
        "# Hypothesis p=0.4 -> Posterior probability=0.000000\n",
        "# Hypothesis p=0.5 -> Posterior probability=0.000000\n",
        "# Hypothesis p=0.6 -> Posterior probability=0.000000\n",
        "# Hypothesis p=0.7 -> Posterior probability=0.000000\n",
        "# Hypothesis p=0.8 -> Posterior probability=0.000000\n",
        "# Hypothesis p=0.9 -> Posterior probability=0.000000\n",
        "# Hypothesis p=1.0 -> Posterior probability=0.000000\n",
        "\n",
        "# note, I didn't have time to double check this code, but upon first glance,\n",
        "# it seems ChatGPT may have missed including the probability of data\n",
        "# in the denominator (as seen in the exercise).\n",
        "\n"
      ]
    }
  ]
}