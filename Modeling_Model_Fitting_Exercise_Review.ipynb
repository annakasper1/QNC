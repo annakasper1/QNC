{
  "nbformat": 4,
  "nbformat_minor": 0,
  "metadata": {
    "colab": {
      "provenance": [],
      "authorship_tag": "ABX9TyNn/eC7hMxxbXQlW0MGKe1J",
      "include_colab_link": true
    },
    "kernelspec": {
      "name": "python3",
      "display_name": "Python 3"
    },
    "language_info": {
      "name": "python"
    }
  },
  "cells": [
    {
      "cell_type": "markdown",
      "metadata": {
        "id": "view-in-github",
        "colab_type": "text"
      },
      "source": [
        "<a href=\"https://colab.research.google.com/github/annakasper1/QNC/blob/main/Modeling_Model_Fitting_Exercise_Review.ipynb\" target=\"_parent\"><img src=\"https://colab.research.google.com/assets/colab-badge.svg\" alt=\"Open In Colab\"/></a>"
      ]
    },
    {
      "cell_type": "markdown",
      "source": [
        "**Purpose: Define initial conditions and objective function for fitting LATER model to RT data**\n",
        "\n",
        "Notes:\n",
        "- receiprocal of reaction time = 1/RT\n",
        "\n",
        "LATER model paramenters:\n",
        "- muR = mean rate of rise\n",
        "- deltaS = standard deviation of the start signal\n",
        "\n",
        "Gaussian parameters\n",
        "- mu = muR/deltaS\n",
        "- sigma = 1/delta S"
      ],
      "metadata": {
        "id": "djj57CnLdnjw"
      }
    },
    {
      "cell_type": "code",
      "execution_count": 30,
      "metadata": {
        "id": "r5e4vaPya3xE"
      },
      "outputs": [],
      "source": [
        "import numpy as np\n",
        "import matplotlib.pyplot as plt\n",
        "from scipy.optimize import minimize\n",
        "from scipy.stats import norm"
      ]
    },
    {
      "cell_type": "code",
      "source": [
        "from google.colab import files\n",
        "uploaded = files.upload()"
      ],
      "metadata": {
        "colab": {
          "base_uri": "https://localhost:8080/",
          "height": 39
        },
        "id": "glfby7H3iw4j",
        "outputId": "0645df13-50fa-4fdb-a7ca-a01d0454cf53"
      },
      "execution_count": 31,
      "outputs": [
        {
          "output_type": "display_data",
          "data": {
            "text/plain": [
              "<IPython.core.display.HTML object>"
            ],
            "text/html": [
              "\n",
              "     <input type=\"file\" id=\"files-2be076dc-cf1e-4823-aa33-7b20c8121314\" name=\"files[]\" multiple disabled\n",
              "        style=\"border:none\" />\n",
              "     <output id=\"result-2be076dc-cf1e-4823-aa33-7b20c8121314\">\n",
              "      Upload widget is only available when the cell has been executed in the\n",
              "      current browser session. Please rerun this cell to enable.\n",
              "      </output>\n",
              "      <script>// Copyright 2017 Google LLC\n",
              "//\n",
              "// Licensed under the Apache License, Version 2.0 (the \"License\");\n",
              "// you may not use this file except in compliance with the License.\n",
              "// You may obtain a copy of the License at\n",
              "//\n",
              "//      http://www.apache.org/licenses/LICENSE-2.0\n",
              "//\n",
              "// Unless required by applicable law or agreed to in writing, software\n",
              "// distributed under the License is distributed on an \"AS IS\" BASIS,\n",
              "// WITHOUT WARRANTIES OR CONDITIONS OF ANY KIND, either express or implied.\n",
              "// See the License for the specific language governing permissions and\n",
              "// limitations under the License.\n",
              "\n",
              "/**\n",
              " * @fileoverview Helpers for google.colab Python module.\n",
              " */\n",
              "(function(scope) {\n",
              "function span(text, styleAttributes = {}) {\n",
              "  const element = document.createElement('span');\n",
              "  element.textContent = text;\n",
              "  for (const key of Object.keys(styleAttributes)) {\n",
              "    element.style[key] = styleAttributes[key];\n",
              "  }\n",
              "  return element;\n",
              "}\n",
              "\n",
              "// Max number of bytes which will be uploaded at a time.\n",
              "const MAX_PAYLOAD_SIZE = 100 * 1024;\n",
              "\n",
              "function _uploadFiles(inputId, outputId) {\n",
              "  const steps = uploadFilesStep(inputId, outputId);\n",
              "  const outputElement = document.getElementById(outputId);\n",
              "  // Cache steps on the outputElement to make it available for the next call\n",
              "  // to uploadFilesContinue from Python.\n",
              "  outputElement.steps = steps;\n",
              "\n",
              "  return _uploadFilesContinue(outputId);\n",
              "}\n",
              "\n",
              "// This is roughly an async generator (not supported in the browser yet),\n",
              "// where there are multiple asynchronous steps and the Python side is going\n",
              "// to poll for completion of each step.\n",
              "// This uses a Promise to block the python side on completion of each step,\n",
              "// then passes the result of the previous step as the input to the next step.\n",
              "function _uploadFilesContinue(outputId) {\n",
              "  const outputElement = document.getElementById(outputId);\n",
              "  const steps = outputElement.steps;\n",
              "\n",
              "  const next = steps.next(outputElement.lastPromiseValue);\n",
              "  return Promise.resolve(next.value.promise).then((value) => {\n",
              "    // Cache the last promise value to make it available to the next\n",
              "    // step of the generator.\n",
              "    outputElement.lastPromiseValue = value;\n",
              "    return next.value.response;\n",
              "  });\n",
              "}\n",
              "\n",
              "/**\n",
              " * Generator function which is called between each async step of the upload\n",
              " * process.\n",
              " * @param {string} inputId Element ID of the input file picker element.\n",
              " * @param {string} outputId Element ID of the output display.\n",
              " * @return {!Iterable<!Object>} Iterable of next steps.\n",
              " */\n",
              "function* uploadFilesStep(inputId, outputId) {\n",
              "  const inputElement = document.getElementById(inputId);\n",
              "  inputElement.disabled = false;\n",
              "\n",
              "  const outputElement = document.getElementById(outputId);\n",
              "  outputElement.innerHTML = '';\n",
              "\n",
              "  const pickedPromise = new Promise((resolve) => {\n",
              "    inputElement.addEventListener('change', (e) => {\n",
              "      resolve(e.target.files);\n",
              "    });\n",
              "  });\n",
              "\n",
              "  const cancel = document.createElement('button');\n",
              "  inputElement.parentElement.appendChild(cancel);\n",
              "  cancel.textContent = 'Cancel upload';\n",
              "  const cancelPromise = new Promise((resolve) => {\n",
              "    cancel.onclick = () => {\n",
              "      resolve(null);\n",
              "    };\n",
              "  });\n",
              "\n",
              "  // Wait for the user to pick the files.\n",
              "  const files = yield {\n",
              "    promise: Promise.race([pickedPromise, cancelPromise]),\n",
              "    response: {\n",
              "      action: 'starting',\n",
              "    }\n",
              "  };\n",
              "\n",
              "  cancel.remove();\n",
              "\n",
              "  // Disable the input element since further picks are not allowed.\n",
              "  inputElement.disabled = true;\n",
              "\n",
              "  if (!files) {\n",
              "    return {\n",
              "      response: {\n",
              "        action: 'complete',\n",
              "      }\n",
              "    };\n",
              "  }\n",
              "\n",
              "  for (const file of files) {\n",
              "    const li = document.createElement('li');\n",
              "    li.append(span(file.name, {fontWeight: 'bold'}));\n",
              "    li.append(span(\n",
              "        `(${file.type || 'n/a'}) - ${file.size} bytes, ` +\n",
              "        `last modified: ${\n",
              "            file.lastModifiedDate ? file.lastModifiedDate.toLocaleDateString() :\n",
              "                                    'n/a'} - `));\n",
              "    const percent = span('0% done');\n",
              "    li.appendChild(percent);\n",
              "\n",
              "    outputElement.appendChild(li);\n",
              "\n",
              "    const fileDataPromise = new Promise((resolve) => {\n",
              "      const reader = new FileReader();\n",
              "      reader.onload = (e) => {\n",
              "        resolve(e.target.result);\n",
              "      };\n",
              "      reader.readAsArrayBuffer(file);\n",
              "    });\n",
              "    // Wait for the data to be ready.\n",
              "    let fileData = yield {\n",
              "      promise: fileDataPromise,\n",
              "      response: {\n",
              "        action: 'continue',\n",
              "      }\n",
              "    };\n",
              "\n",
              "    // Use a chunked sending to avoid message size limits. See b/62115660.\n",
              "    let position = 0;\n",
              "    do {\n",
              "      const length = Math.min(fileData.byteLength - position, MAX_PAYLOAD_SIZE);\n",
              "      const chunk = new Uint8Array(fileData, position, length);\n",
              "      position += length;\n",
              "\n",
              "      const base64 = btoa(String.fromCharCode.apply(null, chunk));\n",
              "      yield {\n",
              "        response: {\n",
              "          action: 'append',\n",
              "          file: file.name,\n",
              "          data: base64,\n",
              "        },\n",
              "      };\n",
              "\n",
              "      let percentDone = fileData.byteLength === 0 ?\n",
              "          100 :\n",
              "          Math.round((position / fileData.byteLength) * 100);\n",
              "      percent.textContent = `${percentDone}% done`;\n",
              "\n",
              "    } while (position < fileData.byteLength);\n",
              "  }\n",
              "\n",
              "  // All done.\n",
              "  yield {\n",
              "    response: {\n",
              "      action: 'complete',\n",
              "    }\n",
              "  };\n",
              "}\n",
              "\n",
              "scope.google = scope.google || {};\n",
              "scope.google.colab = scope.google.colab || {};\n",
              "scope.google.colab._files = {\n",
              "  _uploadFiles,\n",
              "  _uploadFilesContinue,\n",
              "};\n",
              "})(self);\n",
              "</script> "
            ]
          },
          "metadata": {}
        }
      ]
    },
    {
      "cell_type": "code",
      "source": [
        "# Step 1: Get the later_getData uploaded\n",
        "\n",
        "\n",
        "from scipy.io import loadmat\n",
        "import numpy as np\n",
        "\n",
        "# Load the .mat file\n",
        "mat_data = loadmat('JT_RT.mat')\n",
        "\n",
        "# Extract the RT data (assuming it's stored under 'tRxnSum')\n",
        "RTs = mat_data['tRxnSum'].flatten()  # Flatten in case it's a 2D array\n",
        "\n",
        "# Optional: remove non-positive RTs (e.g., outliers or invalid trials)\n",
        "RTs = RTs[RTs > 0]\n",
        "\n"
      ],
      "metadata": {
        "id": "BrcRsL26iYTF"
      },
      "execution_count": 33,
      "outputs": []
    },
    {
      "cell_type": "code",
      "source": [
        "# Step 2: Define the objective function (negative log-likelihood)\n",
        "def later_neg_log_likelihood(fits):\n",
        "    muR, deltaS = fits\n",
        "    if muR <= 0 or deltaS <= 0:\n",
        "        return np.inf # return a large number if parameters are invalid\n",
        "    mu = muR / deltaS\n",
        "    sigma = 1 / deltaS\n",
        "    inv_rts = 1 / RTs\n",
        "    log_likelihoods = norm.logpdf(inv_rts, loc=mu, scale=sigma) # Get log probability of each 1/RT\n",
        "    return -np.sum(log_likelihoods) # Return negative sum of log-likelihoods\n"
      ],
      "metadata": {
        "id": "h8RRMcKGc_La"
      },
      "execution_count": 34,
      "outputs": []
    },
    {
      "cell_type": "code",
      "source": [
        "# Step 3: Define initial conditions and bounds\n",
        "initial_muR = np.mean(1 / RTs)\n",
        "initial_deltaS = 1 / np.std(1 / RTs)\n",
        "initial_values = [initial_muR, initial_deltaS]\n",
        "bounds = [(0.001, 1000), (0.001, 1000)]\n"
      ],
      "metadata": {
        "id": "stfLTZWwdA-7"
      },
      "execution_count": 35,
      "outputs": []
    },
    {
      "cell_type": "code",
      "source": [
        "# EXERCISE - Step 4: Run the optimization, which takes the objective function to find muR and deltaS to maximize the likelihood of the data under the model.\n",
        "# In other words, the optimizer finds the best-fitting parameters.\n",
        "\n",
        "result = minimize(later_neg_log_likelihood, initial_values, bounds=bounds, method='L-BFGS-B')\n",
        "fitted_muR, fitted_deltaS = result.x\n"
      ],
      "metadata": {
        "id": "SsSHcfj7dCfp"
      },
      "execution_count": 36,
      "outputs": []
    },
    {
      "cell_type": "code",
      "source": [
        "# Step 5: Evaluate the fits\n",
        "fitted_mu = fitted_muR / fitted_deltaS\n",
        "fitted_sigma = 1 / fitted_deltaS\n",
        "inv_rt_vals = np.linspace(min(1/RTs), max(1/RTs), 100)\n",
        "pdf_vals = norm.pdf(inv_rt_vals, loc=fitted_mu, scale=fitted_sigma)\n"
      ],
      "metadata": {
        "id": "65yg-U8ndEBL"
      },
      "execution_count": 37,
      "outputs": []
    },
    {
      "cell_type": "code",
      "source": [
        "# Plot histogram of 1/RT and fitted Gaussian\n",
        "plt.figure(figsize=(8, 5))\n",
        "plt.hist(1 / RTs, bins=30, density=True, alpha=0.6, label='1/RT Histogram') # Histogram of 1/RT\n",
        "plt.plot(inv_rt_vals, pdf_vals, 'r-', label='Fitted Gaussian')\n",
        "plt.xlabel('1 / RT')\n",
        "plt.ylabel('Density')\n",
        "plt.title('Fitting LATER Model: 1/RT Distribution')\n",
        "plt.legend()\n",
        "plt.tight_layout()\n"
      ],
      "metadata": {
        "colab": {
          "base_uri": "https://localhost:8080/",
          "height": 507
        },
        "id": "yj8Z65OqdGcp",
        "outputId": "e6eced19-ad29-4cfe-d7e8-b9bac8750b5f"
      },
      "execution_count": 38,
      "outputs": [
        {
          "output_type": "display_data",
          "data": {
            "text/plain": [
              "<Figure size 800x500 with 1 Axes>"
            ],
            "image/png": "[encoded data removed]"
          },
          "metadata": {}
        }
      ]
    },
    {
      "cell_type": "code",
      "source": [
        "# Print fitted parameters and final negative log-likelihood\n",
        "print(f\"Fitted muR: {fitted_muR:.4f}\")\n",
        "print(f\"Fitted deltaS: {fitted_deltaS:.4f}\")\n",
        "print(f\"Final negative log-likelihood: {result.fun:.4f}\")"
      ],
      "metadata": {
        "colab": {
          "base_uri": "https://localhost:8080/"
        },
        "id": "qagNmHMvdH7B",
        "outputId": "9730034e-4a1a-4f27-bb4b-fd6dacb876d4"
      },
      "execution_count": 39,
      "outputs": [
        {
          "output_type": "stream",
          "name": "stdout",
          "text": [
            "Fitted muR: 1.3422\n",
            "Fitted deltaS: 0.4903\n",
            "Final negative log-likelihood: 8313.8989\n"
          ]
        }
      ]
    },
    {
      "cell_type": "markdown",
      "source": [
        "EXERCISE: How do I know if I got a reasonable answer?\n",
        "\n",
        "It seems pretty reasonable, apart from the extreme middle values."
      ],
      "metadata": {
        "id": "FX20iA3TnPfn"
      }
    }
  ]
}