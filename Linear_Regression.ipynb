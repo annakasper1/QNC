{
  "nbformat": 4,
  "nbformat_minor": 0,
  "metadata": {
    "colab": {
      "provenance": [],
      "authorship_tag": "ABX9TyMLeoJuX2BSFi6omp6cK7YQ",
      "include_colab_link": true
    },
    "kernelspec": {
      "name": "python3",
      "display_name": "Python 3"
    },
    "language_info": {
      "name": "python"
    }
  },
  "cells": [
    {
      "cell_type": "markdown",
      "metadata": {
        "id": "view-in-github",
        "colab_type": "text"
      },
      "source": [
        "<a href=\"https://colab.research.google.com/github/annakasper1/QNC/blob/main/Linear_Regression.ipynb\" target=\"_parent\"><img src=\"https://colab.research.google.com/assets/colab-badge.svg\" alt=\"Open In Colab\"/></a>"
      ]
    },
    {
      "cell_type": "markdown",
      "source": [
        "**Exercises**\n",
        "Using the following data set to investigate the relationship between Age and Wing Length, and use the data to generate answers to the prompts below:\n",
        "\n",
        "Age\tWing Length\n",
        "3\t1.4\n",
        "4\t1.5\n",
        "5\t2.2\n",
        "6\t2.4\n",
        "7\t3.1\n",
        "8\t3.2\n",
        "9\t3.2\n",
        "11\t3.9\n",
        "12\t4.1\n",
        "14\t4.7\n",
        "15\t4.5\n",
        "16\t5.2\n",
        "17\t5.0\n",
        "Answers to the exercises below will be found here after the due date.\n",
        "\n",
        "1. Plot the relationship between Age and Wing Length.\n",
        "2. Calculate and plot the regression line.\n",
        "3. Can you reject the null hypothesis of b = 0?\n",
        "4. Calculate and plot the confidence intervals on the slope of the regression.\n",
        "4. Calculate r squared\n",
        " (the coefficient of determination)\n",
        "6. Calculate Pearson's r.\n",
        "7. Add some noise to the data and see how the regression changes."
      ],
      "metadata": {
        "id": "juAllU6xbcdH"
      }
    },
    {
      "cell_type": "code",
      "execution_count": null,
      "metadata": {
        "id": "Q8SfEbYabZMo"
      },
      "outputs": [],
      "source": [
        "import numpy as np  # Performs math functions on arrays\n",
        "import matplotlib.pyplot as plt  # Draws graphs\n",
        "import pandas as pd  #Organizes data in tables\n",
        "import seaborn as sns  # Makes graphs look nicer\n",
        "import statsmodels.api as sm  # Allows us to do regression\n",
        "from scipy.stats import pearsonr  # Calculates Pearson's correlation\n",
        "\n",
        "# Create the data as a dictionary and convert it into a dataframe\n",
        "data = {\n",
        "    'Age': [3, 4, 5, 6, 7, 8, 9, 11, 12, 14, 15, 16, 17],  # ages of birds\n",
        "    'Wing Length': [1.4, 1.5, 2.2, 2.4, 3.1, 3.2, 3.2, 3.9, 4.1, 4.7, 4.5, 5.2, 5.0]  # wing lengths of birds\n",
        "}\n",
        "df = pd.DataFrame(data)\n",
        "\n",
        "# Exercise 1: Plots the relationship between Age and Wing Length\n",
        "sns.scatterplot(x='Age', y='Wing Length', data=df)  # draws dots for each bird\n",
        "plt.title('Age vs Wing Length')\n",
        "plt.xlabel('Age')\n",
        "plt.ylabel('Wing Length')\n",
        "plt.show()\n",
        "\n",
        "# Exercises 2-3: Sets up the regression model (wing length = b0 + age*b1). B0 is the interecept (starting value of wing length when age is 0). b1 is the slope of wing length increase for every 1 year of age.\n",
        "X = sm.add_constant(df['Age'])  # add a column of 1s so that the intercept is added once for each row\n",
        "y = df['Wing Length']  # grabs the wing length column to predict wing length based on age\n",
        "model = sm.OLS(y, X).fit()  # OLS stands for ordinary least squares. Uses age x to predict wing length y.\n",
        "\n",
        "# Exercises 2-3: Seeing if I can reject H0: b = 0. In other words, the null is that age has no effect on wing length and the slope is zero.\n",
        "# Print the summary of the regression\n",
        "print(model.summary())  # show details like slope, p-value, and R-squared\n",
        "# Plot the regression line\n",
        "sns.regplot(x='Age', y='Wing Length', data=df, ci=None, line_kws={\"color\": \"red\"})  # draw the best-fit line\n",
        "plt.title('Regression Line: Age vs Wing Length')  # title of the graph\n",
        "plt.xlabel('Age')  # label for x-axis\n",
        "plt.ylabel('Wing Length')  # label for y-axis\n",
        "plt.show()  # show the graph\n",
        "\n",
        "# Exercise 4: Get the confidence interval for the slope\n",
        "conf_int = model.conf_int()  # get the confidence intervals for the model\n",
        "slope_conf_int = conf_int.loc['Age']  # get the interval just for the slope\n",
        "print(f\"95% Confidence Interval for the slope: {slope_conf_int}\")  # print the slope's confidence interval\n",
        "\n",
        "# Exercise 5: Get R-squared value\n",
        "r_squared = model.rsquared  # how well the line fits the data\n",
        "print(f\"R-squared: {r_squared:.4f}\")  # print R-squared value\n",
        "\n",
        "# Exercise 6: Calculate Pearson's r\n",
        "r, p_value = pearsonr(df['Age'], df['Wing Length'])  # measure how strongly age and wing length are related\n",
        "print(f\"Pearson's r: {r:.4f}, p-value: {p_value:.2e}\")  # print correlation and p-value\n",
        "\n",
        "# Add noise to the Wing Length data\n",
        "np.random.seed(42)  # set a seed so we get the same random numbers every time\n",
        "noise = np.random.normal(0, 0.3, len(df))  # create random noise with mean 0 and std 0.3\n",
        "df['Wing Length Noisy'] = df['Wing Length'] + noise  # add noise to wing lengths\n",
        "# Plot the noisy data with regression line\n",
        "sns.regplot(x='Age', y='Wing Length Noisy', data=df, ci=None, line_kws={\"color\": \"green\"})  # draw new line with noisy data\n",
        "plt.title('Regression with Noisy Data')  # title of the graph\n",
        "plt.xlabel('Age')  # label for x-axis\n",
        "plt.ylabel('Wing Length (Noisy)')  # label for y-axis\n",
        "plt.show()  # show the graph\n"
      ]
    }
  ]
}